{
 "cells": [
  {
   "cell_type": "code",
   "execution_count": null,
   "id": "609a812a",
   "metadata": {},
   "outputs": [],
   "source": [
    "import pandas as pd\n",
    "import numpy as np\n",
    "from sklearn.ensemble import RandomForestClassifier\n",
    "from sklearn.tree import DecisionTreeClassifier\n",
    "from skopt import BayesSearchCV\n",
    "from sklearn.metrics import accuracy_score, precision_score, recall_score, f1_score\n",
    "from sklearn.model_selection import train_test_split\n",
    "from imblearn.over_sampling import SMOTE, ADASYN\n",
    "from imblearn.under_sampling import TomekLinks, RandomUnderSampler\n",
    "from sklearn.impute import SimpleImputer\n",
    "from sklearn.impute import KNNImputer"
   ]
  },
  {
   "cell_type": "code",
   "execution_count": null,
   "id": "0c846160",
   "metadata": {},
   "outputs": [],
   "source": [
    "# Carregando a base Titanic\n",
    "df = pd.read_csv(\"https://raw.githubusercontent.com/datasciencedojo/datasets/master/titanic.csv\")"
   ]
  },
  {
   "cell_type": "code",
   "execution_count": null,
   "id": "25a4f15e",
   "metadata": {},
   "outputs": [],
   "source": [
    "# Tratamento inicial dos dados\n",
    "df = df[['Survived', 'Pclass', 'Sex', 'Age', 'Fare', 'Embarked']]\n",
    "df.dropna(subset=['Embarked'], inplace=True)\n",
    "df['Sex'] = df['Sex'].map({'male': 0, 'female': 1})\n",
    "df['Embarked'] = df['Embarked'].map({'C': 0, 'Q': 1, 'S': 2})\n",
    "\n",
    "# Separando features e labels\n",
    "X = df.drop(columns=['Survived'])\n",
    "y = df['Survived']"
   ]
  },
  {
   "cell_type": "code",
   "execution_count": null,
   "id": "e03e237b",
   "metadata": {},
   "outputs": [],
   "source": [
    "# Divisão treino/teste\n",
    "X_train, X_test, y_train, y_test = train_test_split(X, y, test_size=0.2, random_state=42)"
   ]
  },
  {
   "cell_type": "code",
   "execution_count": null,
   "id": "d7710222",
   "metadata": {},
   "outputs": [],
   "source": [
    "# Imputação de valores ausentes antes de aplicar SMOTE\n",
    "imp_mean = SimpleImputer(strategy='mean')\n",
    "X_train_imputed = imp_mean.fit_transform(X_train)\n",
    "\n",
    "# SMOTE\n",
    "smote = SMOTE()\n",
    "X_res, y_res = smote.fit_resample(X_train_imputed, y_train)\n",
    "\n",
    "# TomekLinks\n",
    "tomek = TomekLinks()\n",
    "X_res_tl, y_res_tl = tomek.fit_resample(X_train_imputed, y_train)\n",
    "\n",
    "# RandomUnderSampler\n",
    "under = RandomUnderSampler()\n",
    "X_res_under, y_res_under = under.fit_resample(X_train_imputed, y_train)\n",
    "\n",
    "# ADASYN (Substituto para DSTO-GAN)\n",
    "adasyn = ADASYN()\n",
    "X_res_adasyn, y_res_adasyn = adasyn.fit_resample(X_train_imputed, y_train)\n",
    "\n",
    "# Avaliação com modelos balanceados\n",
    "for name, X_bal, y_bal in zip([\"SMOTE\", \"TomekLinks\", \"RandomUnderSampler\", \"ADASYN\"],\n",
    "                               [X_res, X_res_tl, X_res_under, X_res_adasyn],\n",
    "                               [y_res, y_res_tl, y_res_under, y_res_adasyn]):\n",
    "    model = RandomForestClassifier().fit(X_bal, y_bal)\n",
    "    y_pred = model.predict(X_test)\n",
    "    print(f\"{name} - Precisão:\", precision_score(y_test, y_pred))\n",
    "    print(f\"{name} - Recall:\", recall_score(y_test, y_pred))\n",
    "    print(f\"{name} - F1-Score:\", f1_score(y_test, y_pred))"
   ]
  },
  {
   "cell_type": "code",
   "execution_count": null,
   "id": "ad723dc6",
   "metadata": {},
   "outputs": [],
   "source": []
  }
 ],
 "metadata": {
  "kernelspec": {
   "display_name": "Python 3 (ipykernel)",
   "language": "python",
   "name": "python3"
  },
  "language_info": {
   "codemirror_mode": {
    "name": "ipython",
    "version": 3
   },
   "file_extension": ".py",
   "mimetype": "text/x-python",
   "name": "python",
   "nbconvert_exporter": "python",
   "pygments_lexer": "ipython3",
   "version": "3.11.5"
  }
 },
 "nbformat": 4,
 "nbformat_minor": 5
}
