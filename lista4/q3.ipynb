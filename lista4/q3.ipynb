{
 "cells": [
  {
   "cell_type": "code",
   "execution_count": null,
   "id": "e924f390",
   "metadata": {},
   "outputs": [],
   "source": [
    "import pandas as pd\n",
    "import numpy as np\n",
    "from sklearn.ensemble import RandomForestClassifier\n",
    "from sklearn.tree import DecisionTreeClassifier\n",
    "from skopt import BayesSearchCV\n",
    "from sklearn.metrics import accuracy_score, precision_score, recall_score, f1_score\n",
    "from sklearn.model_selection import train_test_split\n",
    "from imblearn.over_sampling import SMOTE, ADASYN\n",
    "from imblearn.under_sampling import TomekLinks, RandomUnderSampler\n",
    "from sklearn.impute import SimpleImputer\n",
    "from sklearn.impute import KNNImputer"
   ]
  },
  {
   "cell_type": "code",
   "execution_count": null,
   "id": "154547ab",
   "metadata": {},
   "outputs": [],
   "source": [
    "# Carregando a base Titanic\n",
    "df = pd.read_csv(\"https://raw.githubusercontent.com/datasciencedojo/datasets/master/titanic.csv\")"
   ]
  },
  {
   "cell_type": "code",
   "execution_count": null,
   "id": "7d95657b",
   "metadata": {},
   "outputs": [],
   "source": [
    "# Tratamento inicial dos dados\n",
    "df = df[['Survived', 'Pclass', 'Sex', 'Age', 'Fare', 'Embarked']]\n",
    "df.dropna(subset=['Embarked'], inplace=True)\n",
    "df['Sex'] = df['Sex'].map({'male': 0, 'female': 1})\n",
    "df['Embarked'] = df['Embarked'].map({'C': 0, 'Q': 1, 'S': 2})\n",
    "\n",
    "# Separando features e labels\n",
    "X = df.drop(columns=['Survived'])\n",
    "y = df['Survived']"
   ]
  },
  {
   "cell_type": "code",
   "execution_count": null,
   "id": "d08a1f5c",
   "metadata": {},
   "outputs": [],
   "source": [
    "# Divisão treino/teste\n",
    "X_train, X_test, y_train, y_test = train_test_split(X, y, test_size=0.2, random_state=42)"
   ]
  },
  {
   "cell_type": "code",
   "execution_count": null,
   "id": "421bb3fa",
   "metadata": {},
   "outputs": [],
   "source": [
    "# Criando dados com valores ausentes para simulacao\n",
    "X_com_ausentes = X.copy()\n",
    "X_com_ausentes.loc[np.random.randint(0, X.shape[0], 20), 'Idade'] = np.nan\n",
    "\n",
    "# Imputacao por Media\n",
    "imputador_media = SimpleImputer(strategy='mean')\n",
    "X_imputado_media = imputador_media.fit_transform(X_com_ausentes)\n",
    "\n",
    "# Imputacao por Moda\n",
    "imputador_moda = SimpleImputer(strategy='most_frequent')\n",
    "X_imputado_moda = imputador_moda.fit_transform(X_com_ausentes)\n",
    "\n",
    "# Imputacao por KNN\n",
    "imputador_knn = KNNImputer(n_neighbors=3)\n",
    "X_imputado_knn = imputador_knn.fit_transform(X_com_ausentes)\n",
    "\n",
    "# Avaliacao\n",
    "modelos = {\n",
    "    \"Media\": X_imputado_media,\n",
    "    \"Moda\": X_imputado_moda,\n",
    "    \"KNN\": X_imputado_knn\n",
    "}\n",
    "\n",
    "for metodo, X_imputado in modelos.items():\n",
    "    modelo = RandomForestClassifier().fit(X_imputado, y)\n",
    "    y_previsto = modelo.predict(X_teste)\n",
    "    print(f\"{metodo} - Acuracia:\", accuracy_score(y_teste, y_previsto))\n"
   ]
  },
  {
   "cell_type": "code",
   "execution_count": null,
   "id": "afb96d9a",
   "metadata": {},
   "outputs": [],
   "source": []
  }
 ],
 "metadata": {
  "kernelspec": {
   "display_name": "Python 3 (ipykernel)",
   "language": "python",
   "name": "python3"
  },
  "language_info": {
   "codemirror_mode": {
    "name": "ipython",
    "version": 3
   },
   "file_extension": ".py",
   "mimetype": "text/x-python",
   "name": "python",
   "nbconvert_exporter": "python",
   "pygments_lexer": "ipython3",
   "version": "3.11.5"
  }
 },
 "nbformat": 4,
 "nbformat_minor": 5
}
