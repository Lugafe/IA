{
 "cells": [
  {
   "cell_type": "code",
   "execution_count": null,
   "id": "8c978d53",
   "metadata": {},
   "outputs": [],
   "source": [
    "import pandas as pd\n",
    "import numpy as np\n",
    "from sklearn.ensemble import RandomForestClassifier\n",
    "from sklearn.tree import DecisionTreeClassifier\n",
    "from skopt import BayesSearchCV\n",
    "from sklearn.metrics import accuracy_score, precision_score, recall_score, f1_score\n",
    "from sklearn.model_selection import train_test_split\n",
    "from imblearn.over_sampling import SMOTE, ADASYN\n",
    "from imblearn.under_sampling import TomekLinks, RandomUnderSampler\n",
    "from sklearn.impute import SimpleImputer\n",
    "from sklearn.impute import KNNImputer"
   ]
  },
  {
   "cell_type": "code",
   "execution_count": null,
   "id": "668e86c8",
   "metadata": {},
   "outputs": [],
   "source": [
    "# Carregando a base Titanic\n",
    "df = pd.read_csv(\"https://raw.githubusercontent.com/datasciencedojo/datasets/master/titanic.csv\")"
   ]
  },
  {
   "cell_type": "code",
   "execution_count": null,
   "id": "0f2ca153",
   "metadata": {},
   "outputs": [],
   "source": [
    "# Tratamento inicial dos dados\n",
    "df = df[['Survived', 'Pclass', 'Sex', 'Age', 'Fare', 'Embarked']]\n",
    "df.dropna(subset=['Embarked'], inplace=True)\n",
    "df['Sex'] = df['Sex'].map({'male': 0, 'female': 1})\n",
    "df['Embarked'] = df['Embarked'].map({'C': 0, 'Q': 1, 'S': 2})\n",
    "\n",
    "# Separando features e labels\n",
    "X = df.drop(columns=['Survived'])\n",
    "y = df['Survived']"
   ]
  },
  {
   "cell_type": "code",
   "execution_count": null,
   "id": "854b088d",
   "metadata": {},
   "outputs": [],
   "source": [
    "# Divisão treino/teste\n",
    "X_train, X_test, y_train, y_test = train_test_split(X, y, test_size=0.2, random_state=42)"
   ]
  },
  {
   "cell_type": "code",
   "execution_count": null,
   "id": "f2b7fada",
   "metadata": {},
   "outputs": [],
   "source": [
    "param_grid_rf = {'n_estimators': (10, 200), 'max_depth': (1, 20)}\n",
    "param_grid_dt = {'max_depth': (1, 20), 'min_samples_split': (2, 10)}\n",
    "\n",
    "rf_search = BayesSearchCV(RandomForestClassifier(), param_grid_rf, n_iter=30, cv=5)\n",
    "dt_search = BayesSearchCV(DecisionTreeClassifier(), param_grid_dt, n_iter=30, cv=5)\n",
    "\n",
    "rf_search.fit(X_train, y_train)\n",
    "dt_search.fit(X_train, y_train)\n",
    "\n",
    "# Melhores modelos\n",
    "rf_best = rf_search.best_estimator_\n",
    "dt_best = dt_search.best_estimator_\n",
    "\n",
    "# Avaliação\n",
    "y_pred_rf = rf_best.predict(X_test)\n",
    "y_pred_dt = dt_best.predict(X_test)\n",
    "\n",
    "print(\"Random Forest - Acurácia:\", accuracy_score(y_test, y_pred_rf))\n",
    "print(\"Árvore de Decisão - Acurácia:\", accuracy_score(y_test, y_pred_dt))"
   ]
  },
  {
   "cell_type": "code",
   "execution_count": null,
   "id": "faa6e1da",
   "metadata": {},
   "outputs": [],
   "source": []
  }
 ],
 "metadata": {
  "kernelspec": {
   "display_name": "Python 3 (ipykernel)",
   "language": "python",
   "name": "python3"
  },
  "language_info": {
   "codemirror_mode": {
    "name": "ipython",
    "version": 3
   },
   "file_extension": ".py",
   "mimetype": "text/x-python",
   "name": "python",
   "nbconvert_exporter": "python",
   "pygments_lexer": "ipython3",
   "version": "3.11.5"
  }
 },
 "nbformat": 4,
 "nbformat_minor": 5
}
